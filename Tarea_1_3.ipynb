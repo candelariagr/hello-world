{
  "nbformat": 4,
  "nbformat_minor": 0,
  "metadata": {
    "colab": {
      "provenance": [],
      "authorship_tag": "ABX9TyN4hWNd1wenobJtLFq1vxmy",
      "include_colab_link": true
    },
    "kernelspec": {
      "name": "python3",
      "display_name": "Python 3"
    },
    "language_info": {
      "name": "python"
    }
  },
  "cells": [
    {
      "cell_type": "markdown",
      "metadata": {
        "id": "view-in-github",
        "colab_type": "text"
      },
      "source": [
        "<a href=\"https://colab.research.google.com/github/candelariagr/hello-world/blob/main/Tarea_1_3.ipynb\" target=\"_parent\"><img src=\"https://colab.research.google.com/assets/colab-badge.svg\" alt=\"Open In Colab\"/></a>"
      ]
    },
    {
      "cell_type": "code",
      "execution_count": null,
      "metadata": {
        "colab": {
          "base_uri": "https://localhost:8080/"
        },
        "id": "xolfLXl2IQQJ",
        "outputId": "2bf132a1-ea32-4234-a9c1-b32135a03e5e"
      },
      "outputs": [
        {
          "output_type": "stream",
          "name": "stdout",
          "text": [
            "Hola\n"
          ]
        }
      ],
      "source": [
        "print(\"Hola\")"
      ]
    },
    {
      "cell_type": "code",
      "source": [
        "msg = 'Hola'\n",
        "print(msg)"
      ],
      "metadata": {
        "colab": {
          "base_uri": "https://localhost:8080/"
        },
        "id": "RlJnGOUsIwyv",
        "outputId": "ef2eaf4b-b76c-4f5b-dc7c-96fea8646020"
      },
      "execution_count": null,
      "outputs": [
        {
          "output_type": "stream",
          "name": "stdout",
          "text": [
            "Hola\n"
          ]
        }
      ]
    },
    {
      "cell_type": "code",
      "source": [
        "suma = 1 + 2\n",
        "squaresuma = suma**2\n",
        "print(squaresuma)"
      ],
      "metadata": {
        "colab": {
          "base_uri": "https://localhost:8080/"
        },
        "id": "3xKcz13ZJP1V",
        "outputId": "55fea142-4aad-4fa1-87ee-2cdb7ca914cc"
      },
      "execution_count": null,
      "outputs": [
        {
          "output_type": "stream",
          "name": "stdout",
          "text": [
            "9\n"
          ]
        }
      ]
    },
    {
      "cell_type": "code",
      "source": [
        "first_number = input('Introduzca el primer número:')\n",
        "second_number = input('Introduzca el segundo número:')\n",
        "sum = int(first_number) + int(second_number)\n",
        "square_sum = int(sum)**3\n",
        "print(square_sum)"
      ],
      "metadata": {
        "colab": {
          "base_uri": "https://localhost:8080/"
        },
        "id": "17keNSb7NmWj",
        "outputId": "7f9d5f4b-48b9-4e97-8d09-68ec5bde1017"
      },
      "execution_count": null,
      "outputs": [
        {
          "output_type": "stream",
          "name": "stdout",
          "text": [
            "Introduzca el primer número:2\n",
            "Introduzca el segundo número:2\n",
            "64\n"
          ]
        }
      ]
    },
    {
      "cell_type": "code",
      "source": [
        "phrase = 'Stranger Things '\n",
        "num = '3'\n",
        "phrase_plus_num = phrase + num\n",
        "print(phrase_plus_num)"
      ],
      "metadata": {
        "colab": {
          "base_uri": "https://localhost:8080/"
        },
        "id": "L0EU1QC9ObAT",
        "outputId": "6e355ed3-e407-42c8-e4f9-9317dfe65c78"
      },
      "execution_count": null,
      "outputs": [
        {
          "output_type": "stream",
          "name": "stdout",
          "text": [
            "Stranger Things 3\n"
          ]
        }
      ]
    }
  ]
}